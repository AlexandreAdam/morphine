{
 "cells": [
  {
   "cell_type": "code",
   "execution_count": null,
   "metadata": {},
   "outputs": [],
   "source": [
    "import jax.numpy as np\n",
    "import numpy as onp\n",
    "from jax import grad, jit, vmap\n",
    "from jax import random\n",
    "import matplotlib.pyplot as plt\n",
    "\n",
    "import astropy.io.fits as pf\n",
    "import xaosim as xs\n",
    "from xaosim.pupil import PHARO_MED_FULL as PHARO\n",
    "from scipy.ndimage import rotate\n",
    "\n",
    "from time import time as clock\n",
    "import morphine\n",
    "import xara\n",
    "\n",
    "%matplotlib inline\n",
    "\n",
    "import matplotlib as mpl\n",
    "mpl.style.use('seaborn-colorblind')\n",
    "phasemap = mpl.cm.rainbow\n",
    "phasemap.set_bad(color='k')\n",
    "\n",
    "\n",
    "#To make sure we have always the same matplotlib settings\n",
    "#(the ones in comments are the ipython notebook settings)\n",
    "\n",
    "mpl.rcParams['figure.figsize']=(12.0,9.0)    #(6.0,4.0)\n",
    "mpl.rcParams['font.size']=20               #10 \n",
    "mpl.rcParams['savefig.dpi']= 200             #72 \n",
    "mpl.rcParams['axes.labelsize'] = 18\n",
    "mpl.rcParams['axes.labelsize'] = 18\n",
    "mpl.rcParams['xtick.labelsize'] = 14\n",
    "mpl.rcParams['ytick.labelsize'] = 14\n",
    "from matplotlib import rc\n",
    "mpl.rcParams[\"font.family\"] = \"Times New Roman\"\n",
    "\n",
    "colours = mpl.rcParams['axes.prop_cycle'].by_key()['color']\n",
    "\n",
    "from astropy import units as units\n",
    "\n",
    "shift = np.fft.fftshift\n",
    "fft   = np.fft.fft2\n",
    "ifft  = np.fft.ifft2\n",
    "fftfreq = np.fft.fftfreq\n",
    "\n",
    "dtor = np.pi/180.0\n",
    "\n",
    "import warnings\n",
    "warnings.filterwarnings(\"ignore\")\n",
    "\n",
    "bit = 32\n",
    "# bit = 64\n",
    "\n",
    "if bit == 64:\n",
    "    print('64 bit enabled')\n",
    "    from jax.config import config; config.update(\"jax_enable_x64\", True)\n"
   ]
  },
  {
   "cell_type": "code",
   "execution_count": null,
   "metadata": {},
   "outputs": [],
   "source": [
    "PSZ     =  128   # size of the array for the model\n",
    "pdiam   = 4.646    # telescope diameter in meters\n",
    "\n",
    "# pmask   = PHARO(PSZ, PSZ/2, mask=\"med\")\n",
    "oversample = 5\n",
    "pmask  = PHARO(PSZ*(2**oversample), (2**oversample)*PSZ/2, mask=\"med\", ang=-2) # rotated!\n",
    "def half_bin(array):\n",
    "    return (array[::2,::2] + array[1::2,::2] + array[::2,1::2] + array[1::2,1::2])/4.\n",
    "\n",
    "for j in range(oversample):\n",
    "    pmask = half_bin(pmask)\n",
    "ppscale = pdiam / PSZ\n",
    "\n",
    "\n",
    "# -------------------------\n",
    "#      simple plot\n",
    "# -------------------------\n",
    "f0 = plt.figure(0)\n",
    "f0.clf()\n",
    "ax = f0.add_subplot(111)\n",
    "ax.imshow(pmask)\n",
    "f0.set_size_inches(5,5, forward=True)\n",
    "\n",
    "#f0.savefig(\"./imgs/PHARO/rotated_pupil.png\")\n",
    "# -------------------------\n",
    "\n"
   ]
  },
  {
   "cell_type": "code",
   "execution_count": null,
   "metadata": {},
   "outputs": [],
   "source": [
    "pharo = morphine.ArrayOpticalElement(opd=np.zeros_like(pmask),\n",
    "                               transmission=pmask,\n",
    "                               pixelscale=ppscale,\n",
    "                               name='pharo',planetype=1)\n",
    "pharo.pupil_diam = pdiam"
   ]
  },
  {
   "cell_type": "code",
   "execution_count": null,
   "metadata": {},
   "outputs": [],
   "source": [
    "WAVELENGTH = 2.145e-6\n",
    "RADIUS = pdiam/2. # meters\n",
    "PIXSCALE = 0.025 # arcsec / pix\n",
    "NWAVES = 1.0\n",
    "ISZ = 64\n",
    "FOV = ISZ*PIXSCALE # arcsec\n",
    "NPIX = PSZ#96\n",
    "\n",
    "\n",
    "osys = morphine.OpticalSystem(npix=PSZ)\n",
    "osys.add_pupil(pharo)    \n",
    "osys.pupil_diameter = pdiam\n",
    "pscale = 0.025\n",
    "osys.add_detector(pixelscale=PIXSCALE*2, fov_arcsec=FOV)  # image plane coordinates in arcseconds\n",
    "osys.source_offset_r = 0*pscale\n",
    "osys.source_offset_theta = 0"
   ]
  },
  {
   "cell_type": "code",
   "execution_count": null,
   "metadata": {},
   "outputs": [],
   "source": [
    "psf,intermediate = osys.propagate_mono(WAVELENGTH)"
   ]
  },
  {
   "cell_type": "code",
   "execution_count": null,
   "metadata": {},
   "outputs": [],
   "source": [
    "plt.imshow(psf.intensity**0.5)"
   ]
  },
  {
   "cell_type": "code",
   "execution_count": null,
   "metadata": {},
   "outputs": [],
   "source": [
    "psf.intensity.shape"
   ]
  },
  {
   "cell_type": "code",
   "execution_count": null,
   "metadata": {},
   "outputs": [],
   "source": [
    "m2pix = xara.core.mas2rad(pscale*1000.) * ISZ / WAVELENGTH\n",
    "print('m2pix =',m2pix)"
   ]
  },
  {
   "cell_type": "code",
   "execution_count": null,
   "metadata": {},
   "outputs": [],
   "source": [
    "u = np.linspace(-pdiam,pdiam,NPIX)\n",
    "uu, vv = np.meshgrid(u,u)"
   ]
  },
  {
   "cell_type": "code",
   "execution_count": null,
   "metadata": {},
   "outputs": [],
   "source": [
    "dft1 = xara.core.compute_DFTM1(onp.array([uu.ravel(),vv.ravel()]).T,m2pix,psf.intensity.shape[0],offset=0.5)"
   ]
  },
  {
   "cell_type": "code",
   "execution_count": null,
   "metadata": {},
   "outputs": [],
   "source": [
    "# np.sqrt(dft1.shape[0]).astype('int')"
   ]
  },
  {
   "cell_type": "code",
   "execution_count": null,
   "metadata": {},
   "outputs": [],
   "source": [
    "def frantz_ft1(image,FF,norm=1):\n",
    "    # norm is kpi.TRM.sum() / image.sum()\n",
    "    myft_v = np.dot(FF,image.flatten())\n",
    "    myft_v *= norm/image.sum()\n",
    "    npix = np.sqrt(dft1.shape[0]).astype('int')\n",
    "    return myft_v.reshape(npix,npix)"
   ]
  },
  {
   "cell_type": "code",
   "execution_count": null,
   "metadata": {},
   "outputs": [],
   "source": [
    "cvis1 = frantz_ft1(psf.intensity,dft1)"
   ]
  },
  {
   "cell_type": "code",
   "execution_count": null,
   "metadata": {},
   "outputs": [],
   "source": [
    "dummy = onp.copy(cvis1)#[32:96,32:96]\n",
    "# plt.imshow(np.angle(cvis1))\n",
    "\n",
    "plt.imshow(np.angle(dummy))\n",
    "plt.colorbar()"
   ]
  },
  {
   "cell_type": "markdown",
   "metadata": {},
   "source": [
    "## Non Zernike basis?"
   ]
  },
  {
   "cell_type": "code",
   "execution_count": null,
   "metadata": {},
   "outputs": [],
   "source": [
    "class mywavefront(morphine.ArrayOpticalElement):\n",
    "    def __init__(self, wavelength, pupil, phasescreen, **kwargs):\n",
    "        \"\"\" If your optic has adjustible parameters, then save them as attributes here \"\"\"\n",
    "        super().__init__()\n",
    "        self.pupil = pupil\n",
    "        self.wavelength = wavelength\n",
    "        self.phasescreen = phasescreen\n",
    "\n",
    "    def get_opd(self,wave):\n",
    "        opd = self.phasescreen\n",
    "        return opd\n",
    "\n",
    "    def get_transmission(self, wave):\n",
    "        transmission = self.pupil.get_transmission(wave)\n",
    "        return transmission\n",
    "\n",
    "    # behind the scenes morphine  will calculate:\n",
    "    #    phasor = transmission = np.exp(1.j * 2 * np.pi / wave.wavelength * opd)\n"
   ]
  },
  {
   "cell_type": "code",
   "execution_count": null,
   "metadata": {},
   "outputs": [],
   "source": [
    "wfe = mywavefront(WAVELENGTH,osys.planes[0],np.zeros_like(pmask))"
   ]
  },
  {
   "cell_type": "code",
   "execution_count": null,
   "metadata": {},
   "outputs": [],
   "source": [
    "pupil = osys.planes[0]\n"
   ]
  },
  {
   "cell_type": "code",
   "execution_count": null,
   "metadata": {},
   "outputs": [],
   "source": [
    "osys = morphine.OpticalSystem(npix=PSZ)\n",
    "osys.add_pupil(pharo)    # pupil radius in meters\n",
    "osys.pupil_diameter = pdiam\n",
    "\n",
    "wf = osys.input_wavefront()\n",
    "wfe = mywavefront(WAVELENGTH,osys.planes[0],np.zeros_like(wf.coordinates()[0]))\n",
    "osys.add_pupil(wfe)\n",
    "osys.add_detector(pixelscale=PIXSCALE*2, fov_arcsec=FOV)\n",
    "\n",
    "psf,intermediate = osys.propagate_mono(WAVELENGTH)"
   ]
  },
  {
   "cell_type": "code",
   "execution_count": null,
   "metadata": {},
   "outputs": [],
   "source": [
    "wf.amplitude.shape"
   ]
  },
  {
   "cell_type": "code",
   "execution_count": null,
   "metadata": {},
   "outputs": [],
   "source": [
    "plt.imshow(psf.intensity**0.5)"
   ]
  },
  {
   "cell_type": "markdown",
   "metadata": {},
   "source": [
    "## Now let's try to autodiff this"
   ]
  },
  {
   "cell_type": "code",
   "execution_count": null,
   "metadata": {},
   "outputs": [],
   "source": [
    "def psf_from_phasescreen(phasescreen,wavel=WAVELENGTH):\n",
    "    osys = morphine.OpticalSystem(npix=PSZ)\n",
    "    osys.add_pupil(pharo)\n",
    "    osys.pupil_diameter = pdiam\n",
    "\n",
    "    wf = osys.input_wavefront()\n",
    "    wfe = mywavefront(wavel,osys.planes[0],phasescreen)\n",
    "    osys.add_pupil(wfe)\n",
    "    osys.add_detector(pixelscale=PIXSCALE*2, fov_arcsec=FOV)\n",
    "\n",
    "    psf,intermediate = osys.propagate_mono(wavel)\n",
    "    return psf,osys\n",
    "\n",
    "def end_to_end(phasescreen):\n",
    "    psf, osys = psf_from_phasescreen(phasescreen)\n",
    "    return frantz_ft1(psf.intensity,dft1)\n",
    "\n",
    "def uv_phase(phasescreen):\n",
    "    return np.angle(end_to_end(phasescreen))\n",
    "\n",
    "zero_phase = np.zeros_like(wf.coordinates()[0])\n",
    "\n",
    "output = uv_phase(zero_phase)"
   ]
  },
  {
   "cell_type": "code",
   "execution_count": null,
   "metadata": {},
   "outputs": [],
   "source": [
    "plt.imshow(output)"
   ]
  },
  {
   "cell_type": "code",
   "execution_count": null,
   "metadata": {},
   "outputs": [],
   "source": []
  },
  {
   "cell_type": "code",
   "execution_count": null,
   "metadata": {},
   "outputs": [],
   "source": [
    "from jax import jacfwd, jacrev\n"
   ]
  },
  {
   "cell_type": "code",
   "execution_count": null,
   "metadata": {},
   "outputs": [],
   "source": [
    "%load_ext memory_profiler"
   ]
  },
  {
   "cell_type": "code",
   "execution_count": null,
   "metadata": {},
   "outputs": [],
   "source": [
    "# phasegrad = jacrev(uv_phase)"
   ]
  },
  {
   "cell_type": "code",
   "execution_count": null,
   "metadata": {},
   "outputs": [],
   "source": [
    "# %%memit \n",
    "\n",
    "# thisgrad = phasegrad(zero_phase)\n",
    "# print(thisgrad.sum())\n"
   ]
  },
  {
   "cell_type": "code",
   "execution_count": null,
   "metadata": {},
   "outputs": [],
   "source": [
    "phasegrad = jacfwd(uv_phase)"
   ]
  },
  {
   "cell_type": "code",
   "execution_count": null,
   "metadata": {},
   "outputs": [],
   "source": [
    "%%memit \n",
    "time = clock()\n",
    "thisgrad = phasegrad(zero_phase)\n",
    "print(thisgrad.sum())\n",
    "print('Time taken:',(clock()-time)/60.,'min')"
   ]
  },
  {
   "cell_type": "code",
   "execution_count": null,
   "metadata": {},
   "outputs": [],
   "source": [
    "otf = end_to_end(zero_phase)"
   ]
  },
  {
   "cell_type": "code",
   "execution_count": null,
   "metadata": {},
   "outputs": [],
   "source": [
    "support = np.abs(otf) > 75.0e-4\n",
    "plt.imshow(support)"
   ]
  },
  {
   "cell_type": "code",
   "execution_count": null,
   "metadata": {},
   "outputs": [],
   "source": [
    "indices = 20\n",
    "\n",
    "phases = onp.copy(thisgrad[:,:,indices,indices])\n",
    "phases[support<1.] = np.nan\n",
    "plt.imshow(phases,cmap=phasemap)\n"
   ]
  },
  {
   "cell_type": "code",
   "execution_count": null,
   "metadata": {},
   "outputs": [],
   "source": [
    "indices = 20\n",
    "pupil_trans = pmask\n",
    "phasescreen_test = onp.zeros_like(pupil_trans)\n",
    "phasescreen_test[indices,indices] = 0.1\n",
    "\n",
    "plt.imshow(phasescreen_test)"
   ]
  },
  {
   "cell_type": "code",
   "execution_count": null,
   "metadata": {},
   "outputs": [],
   "source": [
    "output = onp.array(uv_phase(phasescreen_test))\n",
    "output[support<1.] = np.nan\n",
    "plt.imshow(output,cmap=phasemap)\n"
   ]
  },
  {
   "cell_type": "code",
   "execution_count": null,
   "metadata": {},
   "outputs": [],
   "source": [
    "np.floor((pmask.shape[0]/2)).astype('int')"
   ]
  },
  {
   "cell_type": "code",
   "execution_count": null,
   "metadata": {},
   "outputs": [],
   "source": [
    "fig, ax = plt.subplots(6,6,figsize=(12, 12))\n",
    "columns = 2\n",
    "rows = 6\n",
    "indices = 10\n",
    "fs = 16\n",
    "\n",
    "# mid = np.floor((pmask.shape[0]/2)).astype('int')\n",
    "index_step = onp.floor((thisgrad.shape[3])/((3.*rows))).astype('int')\n",
    "\n",
    "indices = index_step+2\n",
    "\n",
    "for j in [0,2,4]:\n",
    "    for i in range(rows):\n",
    "#         print(indices)\n",
    "#         ax[i,1+j].imshow(thisgrad[indices,indices,:,:],cmap=phasemap)\n",
    "        phases = onp.copy(thisgrad[:,:,indices,indices])\n",
    "        pupil_trans = pmask.copy()\n",
    "        phases[support<1.] = np.nan\n",
    "        ax[i,1+j].imshow(phases,cmap=phasemap)\n",
    "\n",
    "        ax[i,1+j].set_xticks([])\n",
    "        ax[i,1+j].set_yticks([])\n",
    "        if i ==0:\n",
    "            ax[i,1+j].set_title('u,v',fontsize=fs)\n",
    "            ax[i,j].set_title('Pupil',fontsize=fs)\n",
    "\n",
    "        ax[i,j].imshow(pupil_trans)\n",
    "        ax[i,j].scatter(indices,indices,s=32,c='r')\n",
    "        ax[i,j].set_xticks([])\n",
    "        ax[i,j].set_yticks([])\n",
    "\n",
    "        indices += index_step\n",
    "\n",
    "# plt.savefig('jacobian.png',bbox_inches='tight')\n",
    "# plt.savefig('/Users/benjaminpope/code/morphine/paper/pharo_jacobian.pdf',bbox_inches='tight')"
   ]
  },
  {
   "cell_type": "code",
   "execution_count": null,
   "metadata": {},
   "outputs": [],
   "source": [
    "fig, ax = plt.subplots(1,4,figsize=(8,4))\n",
    "columns = 4\n",
    "rows = 1\n",
    "indices = 10\n",
    "fs = 16\n",
    "\n",
    "# mid = np.floor((pmask.shape[0]/2)).astype('int')\n",
    "\n",
    "indices_list = [(32,32),(96,48)]\n",
    "for j in [0,1]:\n",
    "    indices = indices_list[j]\n",
    "    \n",
    "    phases = onp.copy(thisgrad[:,:,indices[0],indices[1]])\n",
    "    pupil_trans = pmask.copy()\n",
    "    phases[support<1.] = np.nan\n",
    "    ax[1+2*j].imshow(phases,cmap=phasemap)\n",
    "\n",
    "    ax[1+2*j].set_xticks([])\n",
    "    ax[1+2*j].set_yticks([])\n",
    "    ax[1+2*j].set_title('u,v',fontsize=fs)\n",
    "    ax[2*j].set_title('Pupil',fontsize=fs)\n",
    "\n",
    "    ax[2*j].imshow(pupil_trans)\n",
    "    ax[2*j].scatter(indices[0],indices[1],s=32,c='r')\n",
    "    ax[2*j].set_xticks([])\n",
    "    ax[2*j].set_yticks([])\n",
    "\n",
    "    indices += index_step\n",
    "\n",
    "# plt.savefig('jacobian.png',bbox_inches='tight')\n",
    "plt.savefig('/Users/benjaminpope/code/morphine/paper/pharo_jacobian.pdf',bbox_inches='tight')"
   ]
  },
  {
   "cell_type": "code",
   "execution_count": null,
   "metadata": {},
   "outputs": [],
   "source": [
    "thisgrad.shape"
   ]
  },
  {
   "cell_type": "code",
   "execution_count": null,
   "metadata": {},
   "outputs": [],
   "source": [
    "mid = np.round((NPIX+1)/2).astype('int')\n",
    "\n",
    "half = onp.array(support).copy()\n",
    "half[:,mid:] = 0\n",
    "\n",
    "pupil_mask = (pupil_trans==1.)"
   ]
  },
  {
   "cell_type": "code",
   "execution_count": null,
   "metadata": {},
   "outputs": [],
   "source": [
    "# transfer_martinache = thisgrad[:,:,support>0][pupil_trans==1,:].T\n",
    "\n",
    "transfer = onp.array(thisgrad.reshape(((NPIX)**2),(PSZ)**2))\n",
    "\n",
    "transfer = transfer[half.ravel()==1.,:]\n",
    "transfer = transfer[:,pupil_mask.ravel()]\n",
    "transfer = transfer[:,1:] # one free phase"
   ]
  },
  {
   "cell_type": "code",
   "execution_count": null,
   "metadata": {},
   "outputs": [],
   "source": [
    "print(transfer.shape)"
   ]
  },
  {
   "cell_type": "code",
   "execution_count": null,
   "metadata": {},
   "outputs": [],
   "source": [
    "print(pupil_mask.shape)"
   ]
  },
  {
   "cell_type": "code",
   "execution_count": null,
   "metadata": {},
   "outputs": [],
   "source": [
    "print(transfer)"
   ]
  },
  {
   "cell_type": "code",
   "execution_count": null,
   "metadata": {},
   "outputs": [],
   "source": [
    "np.sum(pupil_mask)"
   ]
  },
  {
   "cell_type": "code",
   "execution_count": null,
   "metadata": {},
   "outputs": [],
   "source": [
    "%%time\n",
    "u1, s1, v1 = np.linalg.svd((transfer.T),full_matrices=True)"
   ]
  },
  {
   "cell_type": "code",
   "execution_count": null,
   "metadata": {},
   "outputs": [],
   "source": [
    "# s1[6000]/s1[0]"
   ]
  },
  {
   "cell_type": "code",
   "execution_count": null,
   "metadata": {},
   "outputs": [],
   "source": [
    " u1.shape, v1.shape"
   ]
  },
  {
   "cell_type": "code",
   "execution_count": null,
   "metadata": {},
   "outputs": [],
   "source": [
    "np.sum((s1/s1[0])>5e-8)\n"
   ]
  },
  {
   "cell_type": "code",
   "execution_count": null,
   "metadata": {},
   "outputs": [],
   "source": [
    "first_k = np.min(np.where(s1/s1[0] == max(set(s1/s1[0]), key=list(s1/s1[0]).count)))"
   ]
  },
  {
   "cell_type": "code",
   "execution_count": null,
   "metadata": {},
   "outputs": [],
   "source": [
    "nbuv = np.sum(half>0)\n",
    "npupil = np.sum(pupil_trans.ravel()>0.)\n",
    "nkphi = nbuv-first_k\n",
    "neig = first_k\n",
    "\n",
    "print('Summary of properties')\n",
    "print('---------------------------------------------------------------')\n",
    "print('- %d sub-apertures' % npupil)\n",
    "print('- %d distinct baselines' % nbuv)\n",
    "print('- %d Ker-phases (%.1f %% target phase information recovery)' % (nkphi, 100*nkphi/nbuv))\n",
    "print('- %d Eig-phases (%.1f %% wavefront information recovery)' % (neig,100*neig/npupil))\n",
    "print('---------------------------------------------------------------')\n"
   ]
  },
  {
   "cell_type": "code",
   "execution_count": null,
   "metadata": {
    "scrolled": true
   },
   "outputs": [],
   "source": [
    "fig = plt.figure(figsize=(12.0,8.0))\n",
    "plt.plot(s1/s1[0],label='Monochromatic')\n",
    "plt.axvline(first_k,color=colours[1])\n",
    "# plt.plot(broadband['S1'],label='Broadband')\n",
    "# plt.plot(corona['S1'],label='Lyot Coronagraph')\n",
    "plt.yscale('log')\n",
    "plt.ylabel('Singular Value')\n",
    "plt.xlabel('Index')\n",
    "# plt.title('Kernel Phase Singular Value Spectrum',fontsize=24,y=1.01)\n",
    "plt.title('Full Pupil',y=1.01,fontsize=20)\n",
    "plt.legend(fontsize=18,frameon=False)\n",
    "# plt.savefig('kerphi_singular.png',bbox_inches='tight')\n",
    "plt.savefig('/Users/benjaminpope/code/morphine/paper/pharo_kerphi_singular.pdf',bbox_inches='tight')"
   ]
  },
  {
   "cell_type": "code",
   "execution_count": null,
   "metadata": {},
   "outputs": [],
   "source": [
    "u1.shape, v1.shape"
   ]
  },
  {
   "cell_type": "code",
   "execution_count": null,
   "metadata": {},
   "outputs": [],
   "source": [
    "fig = plt.figure(figsize=(12.0,8.0))\n",
    "plt.imshow((transfer),interpolation=None)"
   ]
  },
  {
   "cell_type": "code",
   "execution_count": null,
   "metadata": {},
   "outputs": [],
   "source": [
    "kernel = v1[(first_k+1):,:]\n",
    "null = np.dot(kernel,transfer)"
   ]
  },
  {
   "cell_type": "code",
   "execution_count": null,
   "metadata": {},
   "outputs": [],
   "source": [
    "plt.hist(np.abs(transfer.ravel()),bins=100,label='Transfer');\n",
    "plt.hist(np.abs(null.ravel()),bins=100,label='Kernel');\n",
    "\n",
    "plt.xscale('log')\n",
    "plt.yscale('log')\n",
    "plt.legend()"
   ]
  },
  {
   "cell_type": "markdown",
   "metadata": {},
   "source": [
    "### Verify this is a transfer matrix"
   ]
  },
  {
   "cell_type": "code",
   "execution_count": null,
   "metadata": {},
   "outputs": [],
   "source": [
    "NZ = 20\n",
    "\n",
    "zernikes = morphine.zernike.zernike_basis(NZ,npix=PSZ,outside=0.0)\n",
    "plt.imshow(zernikes[-3,:,:],cmap=phasemap)\n"
   ]
  },
  {
   "cell_type": "code",
   "execution_count": null,
   "metadata": {},
   "outputs": [],
   "source": [
    "mode = 5e-9*zernikes[-3,:,:]\n",
    "result = uv_phase(mode)\n",
    "dummy = onp.array(result)\n",
    "dummy[half!=1] = np.nan\n",
    "\n",
    "linear = (onp.dot(transfer,mode[pupil_mask][1:]))\n",
    "toy = onp.array(onp.nan*result)\n",
    "toy[half==1.] = linear\n",
    "\n",
    "fig, axes = plt.subplots(1,2,figsize=(8,4))\n",
    "axes[0].imshow(dummy,cmap=phasemap)\n",
    "axes[0].set_title('Propagation')\n",
    "axes[1].imshow(toy,cmap=phasemap)\n",
    "axes[1].set_title('Linear')"
   ]
  },
  {
   "cell_type": "code",
   "execution_count": null,
   "metadata": {},
   "outputs": [],
   "source": []
  },
  {
   "cell_type": "markdown",
   "metadata": {},
   "source": [
    "### What do these kernel phase maps look like?"
   ]
  },
  {
   "cell_type": "code",
   "execution_count": null,
   "metadata": {},
   "outputs": [],
   "source": [
    "index = first_k+50\n",
    "\n",
    "mode = 1.*onp.array(half)\n",
    "mode[half==1.] = v1[index,:]\n",
    "mode[half!=1.] = np.nan\n",
    "\n",
    "plt.imshow(mode,cmap=phasemap)"
   ]
  },
  {
   "cell_type": "code",
   "execution_count": null,
   "metadata": {},
   "outputs": [],
   "source": [
    "index = 1501\n",
    "\n",
    "pupil_mode = 1.*onp.array(pupil_trans)\n",
    "pupil_mode[pupil_mask] = onp.append([0],u1[:,index])\n",
    "pupil_mode[~pupil_mask] = np.nan\n",
    "\n",
    "plt.imshow(pupil_mode,cmap=phasemap)"
   ]
  },
  {
   "cell_type": "code",
   "execution_count": null,
   "metadata": {},
   "outputs": [],
   "source": [
    "nsets = 4\n",
    "\n",
    "fig, axes = plt.subplots(2,nsets,figsize=(8/3.*(nsets*2),10))\n",
    "\n",
    "for ax in axes.ravel():\n",
    "    ax.set_xticks([])\n",
    "    ax.set_yticks([])\n",
    "    ax.set(aspect='equal')\n",
    "\n",
    "axes[0,0].set_ylabel('Pupil',fontsize=24,labelpad=24)\n",
    "\n",
    "axes[1,0].set_ylabel('u,v',fontsize=24,labelpad=24)\n",
    "\n",
    "for j in range(nsets):\n",
    "    mode = 1.*onp.array(half)\n",
    "    mode[half>0] = v1[j*50,:]\n",
    "    mode[half<=0] = np.nan\n",
    "\n",
    "    axes[1,j].imshow(mode,cmap=phasemap)  \n",
    "    \n",
    "    wavefront = onp.ones_like(pupil_trans)\n",
    "    wavefront[pupil_mask] *= onp.append([0],u1[:,j*50]) \n",
    "    wavefront[~pupil_mask] = np.nan\n",
    "    axes[0,j].imshow(wavefront,cmap=phasemap)\n",
    "    current_cmap = mpl.cm.get_cmap()\n",
    "    current_cmap.set_bad(color='k')\n",
    "\n",
    "plt.savefig('/Users/benjaminpope/code/morphine/paper/pharo_nonsingular_modes_mono.pdf',bbox_inches='tight')"
   ]
  },
  {
   "cell_type": "code",
   "execution_count": null,
   "metadata": {},
   "outputs": [],
   "source": [
    "nsets = 4\n",
    "\n",
    "fig, axes = plt.subplots(nsets,nsets,figsize=(10,10))\n",
    "\n",
    "for ax in axes.ravel():\n",
    "    ax.set_xticks([])\n",
    "    ax.set_yticks([])\n",
    "    ax.set(aspect='equal')\n",
    "\n",
    "for j, axis in enumerate(axes.ravel()):\n",
    "    mode = 1.*onp.array(half)\n",
    "    mode[half==1.] = v1[j*50+first_k,:]\n",
    "    mode[half<1.] = np.nan\n",
    "\n",
    "    axis.imshow(mode,cmap=phasemap)  \n",
    "    \n",
    "    current_cmap = mpl.cm.get_cmap()\n",
    "    current_cmap.set_bad(color='k')\n",
    "\n",
    "plt.savefig('/Users/benjaminpope/code/morphine/paper/pharo_kernel_modes_mono.pdf',bbox_inches='tight')"
   ]
  },
  {
   "cell_type": "markdown",
   "metadata": {},
   "source": [
    "### Now can we save this as a KPI?"
   ]
  },
  {
   "cell_type": "code",
   "execution_count": null,
   "metadata": {},
   "outputs": [],
   "source": [
    "x = np.linspace(-pdiam/2.,pdiam/2.,PSZ)\n",
    "xx, yy = np.meshgrid(x,x)\n",
    "\n",
    "mask = onp.array([xx[pupil_mask], yy[pupil_mask],(pupil_trans[pupil_mask])]).T\n",
    "\n",
    "# u = np.linspace(-pdiam,pdiam,NPIX)\n",
    "# uu, vv = np.meshgrid(u,u)\n",
    "\n",
    "uv_samp = onp.array([uu[half==1.], vv[half==1.]]).T\n",
    "\n"
   ]
  },
  {
   "cell_type": "code",
   "execution_count": null,
   "metadata": {},
   "outputs": [],
   "source": [
    "np.sqrt((uv_samp**2).sum(axis=1)).max()/(pdiam)"
   ]
  },
  {
   "cell_type": "code",
   "execution_count": null,
   "metadata": {},
   "outputs": [],
   "source": [
    "transfer.shape"
   ]
  },
  {
   "cell_type": "code",
   "execution_count": null,
   "metadata": {},
   "outputs": [],
   "source": [
    "kernel"
   ]
  },
  {
   "cell_type": "code",
   "execution_count": null,
   "metadata": {},
   "outputs": [],
   "source": [
    " data = {'name'   : 'pharomorphinefrantz_%dbit_%dpix' % (bit,NPIX),\n",
    "         'mask'   : mask.astype('float64'),\n",
    "         'uv'     : uv_samp.astype('float64'),\n",
    "         'TFM'    : transfer.astype('float64'),\n",
    "         'KerPhi' : kernel.astype('float64'),\n",
    "         'RED'    : otf[half==1.].astype('float64'),\n",
    "         'support': half.astype('float64')}"
   ]
  },
  {
   "cell_type": "code",
   "execution_count": null,
   "metadata": {},
   "outputs": [],
   "source": [
    "%%time\n",
    "import gzip, pickle\n",
    "print('saving to pharomorphinefrantz_%dbit_%dpix.kpi.gz' % (bit,NPIX))\n",
    "myf = gzip.GzipFile('pharomorphinefrantz_%dbit_%dpix.kpi.gz' % (bit,NPIX), \"wb\")\n",
    "pickle.dump(data, myf, -1)\n",
    "myf.close()\n",
    "print('saved')"
   ]
  },
  {
   "cell_type": "code",
   "execution_count": null,
   "metadata": {},
   "outputs": [],
   "source": [
    "plt.scatter(mask[:,0],mask[:,1],c=mask[:,2],s=4)"
   ]
  },
  {
   "cell_type": "code",
   "execution_count": null,
   "metadata": {},
   "outputs": [],
   "source": [
    "import gzip, pickle\n",
    "myf = gzip.GzipFile('pharomorphinefrantz.kpi.gz','r')\n",
    "test = pickle.load(myf)\n",
    "myf.close()"
   ]
  },
  {
   "cell_type": "markdown",
   "metadata": {},
   "source": [
    "### Now let's see what a binary simulation looks like"
   ]
  },
  {
   "cell_type": "code",
   "execution_count": null,
   "metadata": {},
   "outputs": [],
   "source": [
    "NZ = 20\n",
    "\n",
    "zernikes = morphine.zernike.zernike_basis(NZ,npix=PSZ,outside=0.0)\n",
    "\n"
   ]
  },
  {
   "cell_type": "code",
   "execution_count": null,
   "metadata": {},
   "outputs": [],
   "source": [
    "ISZ"
   ]
  },
  {
   "cell_type": "code",
   "execution_count": null,
   "metadata": {},
   "outputs": [],
   "source": [
    "coefficients_sequence = 15e-9*onp.random.randn(NZ)\n",
    "\n",
    "\n",
    "aberrated = morphine.OpticalSystem(npix=PSZ)\n",
    "aberrated.add_pupil(pharo)    # pupil radius in meters\n",
    "aberrated.pupil_diameter = pdiam\n",
    "\n",
    "thinlens = morphine.ZernikeWFE(radius=pdiam/2., coefficients=coefficients_sequence, cached_zernikes=zernikes)\n",
    "aberrated.add_pupil(thinlens)\n",
    "aberrated.add_detector( pixelscale=PIXSCALE*2, fov_arcsec=ISZ*PIXSCALE )\n",
    "\n",
    "blur,intermediate = aberrated.propagate_mono(WAVELENGTH,normalize='first')"
   ]
  },
  {
   "cell_type": "code",
   "execution_count": null,
   "metadata": {},
   "outputs": [],
   "source": [
    "(thinlens.get_opd(wf)).max()-(thinlens.get_opd(wf)).min()*1e9"
   ]
  },
  {
   "cell_type": "code",
   "execution_count": null,
   "metadata": {},
   "outputs": [],
   "source": [
    "plt.imshow(blur.intensity**0.25)"
   ]
  },
  {
   "cell_type": "code",
   "execution_count": null,
   "metadata": {},
   "outputs": [],
   "source": [
    "offset = 0.125\n",
    "\n",
    "aberrated.source_offset_r = offset\n",
    "aberrated.source_offset_theta = 86\n",
    "tilted, intertilt = aberrated.propagate_mono(WAVELENGTH,normalize='first')\n",
    "aberrated.source_offset_r = 0\n"
   ]
  },
  {
   "cell_type": "code",
   "execution_count": null,
   "metadata": {},
   "outputs": [],
   "source": [
    "contrast = 1./50.\n",
    "science = contrast*tilted.intensity+blur.intensity"
   ]
  },
  {
   "cell_type": "code",
   "execution_count": null,
   "metadata": {},
   "outputs": [],
   "source": [
    "plt.imshow(science**0.25)"
   ]
  },
  {
   "cell_type": "code",
   "execution_count": null,
   "metadata": {},
   "outputs": [],
   "source": [
    "import pyfits\n",
    "hdu = pyfits.PrimaryHDU(science)\n",
    "hdulist = pyfits.HDUList([hdu])\n",
    "hdulist.writeto('test_pharo.fits',clobber=True)\n"
   ]
  },
  {
   "cell_type": "code",
   "execution_count": null,
   "metadata": {},
   "outputs": [],
   "source": [
    "# # do a bunch of them\n",
    "\n",
    "# seps = [75,100,125,150]\n",
    "# cons = [10,25,50]\n",
    "# thetas = [0,86,180,270]\n",
    "\n",
    "# for sep in seps:\n",
    "#     for theta in thetas:\n",
    "#         aberrated.source_offset_r = sep/1000.\n",
    "#         aberrated.source_offset_theta = theta\n",
    "#         tilted, intertilt = aberrated.propagate_mono(WAVELENGTH,normalize='first')\n",
    "#         for con in cons:\n",
    "#             science = 1./con*tilted.intensity+blur.intensity\n",
    "            \n",
    "#             hdu = pyfits.PrimaryHDU(science)\n",
    "#             hdulist = pyfits.HDUList([hdu])\n",
    "#             fname = 'test_pharo_s%d_th%d_c%d.fits' % (sep,theta,con)\n",
    "#             hdulist.writeto(fname,clobber=True)\n",
    "#             print('Written to %s' % fname)\n"
   ]
  },
  {
   "cell_type": "code",
   "execution_count": null,
   "metadata": {},
   "outputs": [],
   "source": [
    "# from tqdm import tqdm\n",
    "# # do a bunch of them\n",
    "# sep, theta, con = 125., 86., 25.\n",
    "# science = onp.zeros((100,ISZ,ISZ))\n",
    "\n",
    "# coefficients_sequence_0 = 15e-9*onp.random.randn(NZ)\n",
    "\n",
    "# for j in tqdm(range(100)):\n",
    "\n",
    "#     coefficients_sequence = 5e-9*onp.random.randn(NZ)+coefficients_sequence_0\n",
    "\n",
    "#     aberrated = morphine.OpticalSystem(npix=PSZ)\n",
    "#     aberrated.add_pupil(pharo)    # pupil radius in meters\n",
    "#     aberrated.pupil_diameter = pdiam\n",
    "\n",
    "#     thinlens = morphine.ZernikeWFE(radius=pdiam/2., coefficients=coefficients_sequence, cached_zernikes=zernikes)\n",
    "#     aberrated.add_pupil(thinlens)\n",
    "#     aberrated.add_detector( pixelscale=PIXSCALE*2, fov_arcsec=ISZ*PIXSCALE )\n",
    "\n",
    "#     blur,intermediate = aberrated.propagate_mono(WAVELENGTH,normalize='first')\n",
    "\n",
    "#     aberrated.source_offset_r = sep/1000.\n",
    "#     aberrated.source_offset_theta = theta\n",
    "#     tilted, intertilt = aberrated.propagate_mono(WAVELENGTH,normalize='first')\n",
    "#     science[j,:,:] = 1./con*tilted.intensity+blur.intensity\n",
    "\n",
    "# hdu = pyfits.PrimaryHDU(science)\n",
    "# hdulist = pyfits.HDUList([hdu])\n",
    "# fname = 'test_pharo_s%d_th%d_c%d_cube.fits' % (sep,theta,con)\n",
    "# hdulist.writeto(fname,clobber=True)\n",
    "# print('Written to %s' % fname)\n"
   ]
  },
  {
   "cell_type": "code",
   "execution_count": null,
   "metadata": {},
   "outputs": [],
   "source": []
  }
 ],
 "metadata": {
  "kernelspec": {
   "display_name": "Python 3",
   "language": "python",
   "name": "python3"
  },
  "language_info": {
   "codemirror_mode": {
    "name": "ipython",
    "version": 3
   },
   "file_extension": ".py",
   "mimetype": "text/x-python",
   "name": "python",
   "nbconvert_exporter": "python",
   "pygments_lexer": "ipython3",
   "version": "3.7.4"
  }
 },
 "nbformat": 4,
 "nbformat_minor": 2
}
